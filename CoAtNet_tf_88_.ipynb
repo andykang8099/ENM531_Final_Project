{
  "nbformat": 4,
  "nbformat_minor": 0,
  "metadata": {
    "colab": {
      "name": "CoAtNet-tf 88%.ipynb",
      "provenance": [],
      "collapsed_sections": []
    },
    "kernelspec": {
      "name": "python3",
      "display_name": "Python 3"
    },
    "language_info": {
      "name": "python"
    },
    "accelerator": "GPU"
  },
  "cells": [
    {
      "cell_type": "markdown",
      "source": [
        "# CoAtNet Implementation"
      ],
      "metadata": {
        "id": "vzB_UCJBiIbZ"
      }
    },
    {
      "cell_type": "code",
      "execution_count": null,
      "metadata": {
        "id": "yW9nzd2j806z"
      },
      "outputs": [],
      "source": [
        "# imports\n",
        "import numpy as np\n",
        "import pandas as pd\n",
        "import os\n",
        "import PIL\n",
        "import cv2\n",
        "import tensorflow as tf\n",
        "from tensorflow import keras\n",
        "from tensorflow.keras.optimizers import Adam\n",
        "from tensorflow.keras.preprocessing.image import ImageDataGenerator\n",
        "import matplotlib.pyplot as plt\n",
        "from matplotlib.pyplot import imshow\n",
        "from sklearn.model_selection import train_test_split\n",
        "import matplotlib.pyplot as plt\n",
        "from matplotlib.pyplot import imshow\n",
        "import shutil\n",
        "from sklearn.metrics import confusion_matrix, classification_report\n",
        "from sklearn.utils.class_weight import compute_class_weight\n",
        "\n",
        "#os.environ['CUDA_VISIBLE_DEVICES'] = '0'\n",
        "#os.environ[\"SM_FRAMEWORK\"] = \"tf.keras\""
      ]
    },
    {
      "cell_type": "markdown",
      "source": [
        "## Construct the MBconv block and CoatNet0 structure"
      ],
      "metadata": {
        "id": "3SHlJRpyiLj1"
      }
    },
    {
      "cell_type": "code",
      "source": [
        "# CoAtNet\n",
        "class MBConv(tf.keras.layers.Layer):\n",
        "    def __init__(self, filters, kernel_size, strides = 1, expand_ratio = 1, se_ratio = 4, residual = True, momentum = 0.9, epsilon = 0.01, convolution = tf.keras.layers.Conv2D, activation = tf.nn.swish, kernel_initializer = \"he_normal\", **kwargs):\n",
        "        super(MBConv, self).__init__(**kwargs)\n",
        "        self.filters = filters\n",
        "        self.kernel_size = kernel_size\n",
        "        self.strides = strides\n",
        "        self.expand_ratio = expand_ratio\n",
        "        self.se_ratio = se_ratio\n",
        "        self.residual = residual\n",
        "        self.momentum = momentum\n",
        "        self.epsilon = epsilon\n",
        "        self.convolution = convolution\n",
        "        self.activation = activation\n",
        "        self.kernel_initializer = kernel_initializer\n",
        "        \n",
        "    def build(self, input_shape):\n",
        "        self.layers = []\n",
        "        self.post = []\n",
        "        if self.expand_ratio != 1:\n",
        "            conv = self.convolution(input_shape[-1] * self.expand_ratio, 1, use_bias = False, kernel_initializer = self.kernel_initializer)\n",
        "            norm = tf.keras.layers.BatchNormalization(momentum = self.momentum, epsilon = self.epsilon)\n",
        "            act = tf.keras.layers.Activation(self.activation)\n",
        "            input_shape = input_shape[:-1] + (input_shape[-1] * self.expand_ratio,)\n",
        "            self.layers += [conv, norm, act]\n",
        "        \n",
        "        #Depthwise Convolution\n",
        "        conv = self.convolution(input_shape[-1], self.kernel_size, strides = self.strides, groups = input_shape[-1], padding = \"same\", use_bias = False, kernel_initializer = self.kernel_initializer)\n",
        "        norm = tf.keras.layers.BatchNormalization(momentum = self.momentum, epsilon = self.epsilon)\n",
        "        act = tf.keras.layers.Activation(self.activation)\n",
        "        self.layers += [conv, norm, act]\n",
        "        \n",
        "        #Squeeze and Excitation layer, if desired\n",
        "        axis = list(range(1, len(input_shape) - 1))\n",
        "        gap = tf.keras.layers.Lambda(lambda x: tf.reduce_mean(x, axis = axis, keepdims = True))\n",
        "        squeeze = self.convolution(max(1, int(input_shape[-1] / self.se_ratio)), 1, use_bias = True, kernel_initializer = self.kernel_initializer)\n",
        "        act = tf.keras.layers.Activation(self.activation)\n",
        "        excitation = self.convolution(input_shape[-1], 1, use_bias = True, kernel_initializer = self.kernel_initializer)\n",
        "        se = lambda x: x * tf.nn.sigmoid(excitation(act(squeeze(gap(x)))))\n",
        "        self.layers += [se]\n",
        "        \n",
        "        #Output Phase\n",
        "        conv = self.convolution(self.filters, 1, use_bias = False, kernel_initializer = self.kernel_initializer)\n",
        "        norm = tf.keras.layers.BatchNormalization(momentum = self.momentum, epsilon = self.epsilon)\n",
        "        self.layers += [conv, norm]\n",
        "        \n",
        "        #Residual\n",
        "        if self.residual:\n",
        "            if 1 < self.strides:\n",
        "                pool = tf.keras.layers.MaxPool2D(pool_size = self.strides + 1, strides = self.strides, padding = \"same\")\n",
        "                self.post.append(pool)\n",
        "            if input_shape[-1] != self.filters:\n",
        "                resample = self.convolution(self.filters, 1, use_bias = False, kernel_initializer = self.kernel_initializer)\n",
        "                self.post.append(resample)\n",
        "        \n",
        "    def call(self, x):\n",
        "        out = x\n",
        "        for layer in self.layers:\n",
        "            out = layer(out)\n",
        "            \n",
        "        if self.residual:\n",
        "            for layer in self.post:\n",
        "                x = layer(x)\n",
        "            out = out + x\n",
        "        return out\n",
        "        \n",
        "    def get_config(self):\n",
        "        config = super(MBConv, self).get_config()\n",
        "        config[\"filters\"] = self.filters\n",
        "        config[\"kernel_size\"] = self.kernel_size\n",
        "        config[\"expand_ratio\"] = self.expand_ratio\n",
        "        config[\"se_ratio\"] = self.se_ratio\n",
        "        config[\"residual\"] = self.residual\n",
        "        config[\"momentum\"] = self.momentum\n",
        "        config[\"epsilon\"] = self.epsilon\n",
        "        config[\"convolution\"] = self.convolution\n",
        "        config[\"activation\"] = self.activation\n",
        "        config[\"kernel_initializer\"] = self.kernel_initializer\n",
        "        return config\n",
        "\n",
        "class MultiHeadSelfAttention(tf.keras.layers.Layer):\n",
        "    def __init__(self, emb_dim = 768, n_head = 12, out_dim = None, relative_window_size = None, dropout_rate = 0., kernel_initializer = tf.keras.initializers.RandomNormal(mean = 0, stddev = 0.01), **kwargs):\n",
        "        #ScaledDotProductAttention\n",
        "        super(MultiHeadSelfAttention, self).__init__(**kwargs)\n",
        "        self.emb_dim = emb_dim\n",
        "        self.n_head = n_head\n",
        "        if emb_dim % n_head != 0:\n",
        "            raise ValueError(\"Shoud be embedding dimension % number of heads = 0.\")\n",
        "        if out_dim is None:\n",
        "            out_dim = self.emb_dim\n",
        "        self.out_dim = out_dim\n",
        "        if relative_window_size is not None and np.ndim(relative_window_size) == 0:\n",
        "            relative_window_size = [relative_window_size, relative_window_size]\n",
        "        self.relative_window_size = relative_window_size\n",
        "        self.projection_dim = emb_dim // n_head\n",
        "        self.dropout_rate = dropout_rate\n",
        "        self.query = tf.keras.layers.Dense(emb_dim, kernel_initializer = kernel_initializer)\n",
        "        self.key = tf.keras.layers.Dense(emb_dim, kernel_initializer = kernel_initializer)\n",
        "        self.value = tf.keras.layers.Dense(emb_dim, kernel_initializer = kernel_initializer)\n",
        "        self.combine = tf.keras.layers.Dense(out_dim, kernel_initializer = kernel_initializer)\n",
        "        \n",
        "    def build(self, input_shape):\n",
        "        if self.relative_window_size is not None:\n",
        "            self.relative_position_bias_table = self.add_weight(\"relative_position_bias_table\", shape = [((2 * self.relative_window_size[0]) - 1) * ((2 * self.relative_window_size[1]) - 1), self.n_head], trainable = self.trainable)\n",
        "            coords_h = np.arange(self.relative_window_size[0])\n",
        "            coords_w = np.arange(self.relative_window_size[1])\n",
        "            coords = np.stack(np.meshgrid(coords_h, coords_w, indexing = \"ij\")) #2, Wh, Ww\n",
        "            coords = np.reshape(coords, [2, -1])\n",
        "            relative_coords = np.expand_dims(coords, axis = -1) - np.expand_dims(coords, axis = -2) #2, Wh * Ww, Wh * Ww\n",
        "            relative_coords = np.transpose(relative_coords, [1, 2, 0]) #Wh * Ww, Wh * Ww, 2\n",
        "            relative_coords[:, :, 0] += self.relative_window_size[0] - 1 #shift to start from 0\n",
        "            relative_coords[:, :, 1] += self.relative_window_size[1] - 1\n",
        "            relative_coords[:, :, 0] *= 2 * self.relative_window_size[1] - 1\n",
        "            relative_position_index = np.sum(relative_coords, -1)\n",
        "            self.relative_position_index = tf.Variable(tf.convert_to_tensor(relative_position_index), trainable = False, name= \"relative_position_index\")\n",
        "        \n",
        "    def attention(self, query, key, value, relative_position_bias = None):\n",
        "        score = tf.matmul(query, key, transpose_b = True)\n",
        "        n_key = tf.cast(tf.shape(key)[-1], tf.float32)\n",
        "        scaled_score = score / tf.math.sqrt(n_key)\n",
        "        if relative_position_bias is not None:\n",
        "            scaled_score = scaled_score + relative_position_bias\n",
        "        weight = tf.nn.softmax(scaled_score, axis = -1)\n",
        "        if 0 < self.dropout_rate:\n",
        "            weight = tf.nn.dropout(weight, self.dropout_rate)\n",
        "        out = tf.matmul(weight, value)\n",
        "        return out\n",
        "    \n",
        "    def separate_head(self, x):\n",
        "        out = tf.keras.layers.Reshape([-1, self.n_head, self.projection_dim])(x)\n",
        "        out = tf.keras.layers.Permute([2, 1, 3])(out)\n",
        "        return out\n",
        "    \n",
        "    def call(self, inputs):\n",
        "        query = self.query(inputs)\n",
        "        key = self.key(inputs)\n",
        "        value = self.value(inputs)\n",
        "        \n",
        "        query = self.separate_head(query)\n",
        "        key = self.separate_head(key)\n",
        "        value = self.separate_head(value)\n",
        "        \n",
        "        relative_position_bias = None\n",
        "        if self.relative_window_size is not None:\n",
        "            relative_position_bias = tf.gather(self.relative_position_bias_table, tf.reshape(self.relative_position_index, [-1]))\n",
        "            relative_position_bias = tf.reshape(relative_position_bias, [self.relative_window_size[0] * self.relative_window_size[1], self.relative_window_size[0] * self.relative_window_size[1], -1]) #Wh * Ww,Wh * Ww, nH\n",
        "            relative_position_bias = tf.transpose(relative_position_bias, [2, 0, 1]) #nH, Wh * Ww, Wh * Ww\n",
        "            relative_position_bias = tf.expand_dims(relative_position_bias, axis = 0)\n",
        "        attention = self.attention(query, key, value, relative_position_bias)\n",
        "        attention = tf.keras.layers.Permute([2, 1, 3])(attention)\n",
        "        attention = tf.keras.layers.Reshape([-1, self.emb_dim])(attention)\n",
        "        \n",
        "        out = self.combine(attention)\n",
        "        return out\n",
        "        \n",
        "    def get_config(self):\n",
        "        config = super(MultiHeadSelfAttention, self).get_config()\n",
        "        config[\"emb_dim\"] = self.emb_dim\n",
        "        config[\"n_head\"] = self.n_head\n",
        "        config[\"out_dim\"] = self.out_dim\n",
        "        config[\"relative_window_size\"] = self.relative_window_size\n",
        "        config[\"projection_dim\"] = self.projection_dim\n",
        "        config[\"dropout_rate\"] = self.dropout_rate\n",
        "        return config\n",
        "        \n",
        "class ConvTransformer(tf.keras.layers.Layer):\n",
        "    def __init__(self, emb_dim = 768, n_head = 12, strides = 1, out_dim = None, epsilon = 1e-5, dropout_rate = 0., activation = tf.keras.activations.gelu, kernel_initializer = tf.keras.initializers.RandomNormal(mean = 0, stddev = 0.01), **kwargs):\n",
        "        super(ConvTransformer, self).__init__(**kwargs)\n",
        "        self.emb_dim = emb_dim\n",
        "        self.n_head = n_head\n",
        "        self.strides = strides\n",
        "        self.out_dim = out_dim if out_dim is not None else emb_dim\n",
        "        self.epsilon = epsilon\n",
        "        self.dropout_rate = dropout_rate\n",
        "        self.activation = activation\n",
        "        self.kernel_initializer = kernel_initializer\n",
        "        \n",
        "    def build(self, input_shape):\n",
        "        self.attention = []\n",
        "        self.residual = []\n",
        "        \n",
        "        #Attention\n",
        "        shape = input_shape[1:3]\n",
        "        if 1 < self.strides:\n",
        "            shape = np.divide(np.add(shape, (self.strides - 1)), self.strides).astype(int)\n",
        "            pool = tf.keras.layers.MaxPool2D(pool_size = self.strides + 1, strides = self.strides, padding = \"same\")\n",
        "            self.attention.append(pool)\n",
        "            self.residual.append(pool)\n",
        "        if input_shape[-1] != self.out_dim:\n",
        "            resample = tf.keras.layers.Conv2D(self.out_dim, 1, padding = \"same\", use_bias = False, kernel_initializer = \"he_normal\")\n",
        "            self.residual.append(resample)\n",
        "        pre_reshape = tf.keras.layers.Reshape([-1, input_shape[-1]])\n",
        "        mhsa = MultiHeadSelfAttention(emb_dim = self.emb_dim, n_head = self.n_head, out_dim = self.out_dim, relative_window_size = shape, dropout_rate = self.dropout_rate)\n",
        "        post_reshape = tf.keras.layers.Reshape([*shape, self.out_dim])\n",
        "        self.attention += [pre_reshape, mhsa, post_reshape]\n",
        "        \n",
        "        self.ffn = []\n",
        "        #Feed Forward Network\n",
        "        norm = tf.keras.layers.LayerNormalization(epsilon = self.epsilon)\n",
        "        dense1 = tf.keras.layers.Dense(self.out_dim, kernel_initializer = self.kernel_initializer)\n",
        "        act = tf.keras.layers.Activation(self.activation)\n",
        "        dense2 = tf.keras.layers.Dense(self.out_dim, kernel_initializer = self.kernel_initializer)\n",
        "        self.ffn = [norm, dense1, act, dense2]\n",
        "    \n",
        "    def call(self, inputs):\n",
        "        out = inputs\n",
        "        for layer in self.attention:\n",
        "            out = layer(out)\n",
        "        for layer in self.residual:\n",
        "            inputs = layer(inputs)\n",
        "        out = out + inputs\n",
        "        \n",
        "        for layer in self.ffn:\n",
        "            out = layer(out)\n",
        "        return out\n",
        "        \n",
        "    def get_config(self):\n",
        "        config = super(ConvTransformer, self).get_config()\n",
        "        config[\"emb_dim\"] = self.emb_dim\n",
        "        config[\"n_head\"] = self.n_head\n",
        "        config[\"strides\"] = self.strides\n",
        "        config[\"out_dim\"] = self.out_dim\n",
        "        config[\"epsilon\"] = self.epsilon\n",
        "        config[\"dropout_rate\"] = self.dropout_rate\n",
        "        config[\"activation\"] = self.activation\n",
        "        config[\"kernel_initializer\"] = self.kernel_initializer\n",
        "        return config\n",
        "    \n",
        "def coatnet(x, n_class = 1000, include_top = True, n_depth = [2, 2, 6, 14, 2], n_feature = [64, 96, 192, 384, 768], block = [\"C\", \"M\", \"M\", \"T\", \"T\"], stage_stride_size = 2, expand_ratio = 4, se_ratio = 4, dropout_rate = 0., activation = tf.keras.activations.gelu, name = \"\"):\n",
        "    #block : S > Stem, C > MBConv, T > Transformer\n",
        "    if 0 < len(name):\n",
        "        name += \"_\"\n",
        "    if isinstance(stage_stride_size, int):\n",
        "        stage_stride_size = [stage_stride_size] * len(block)\n",
        "        \n",
        "    out = x\n",
        "    for i, (_n_depth, _n_feature, _block, _stage_stride_size) in enumerate(zip(n_depth, n_feature, block, stage_stride_size)):\n",
        "        for j in range(_n_depth):\n",
        "            stride_size = 1 if j != 0 else _stage_stride_size\n",
        "            residual = out\n",
        "            if _block.upper() == \"C\":# i == 0:\n",
        "                out = tf.keras.layers.Conv2D(_n_feature, 1 if i != 0 else 3, strides = stride_size, padding = \"same\", use_bias = False, kernel_initializer = \"he_normal\", name = \"{0}stage{1}_conv{2}\".format(name, i, j + 1))(out)\n",
        "                out = tf.keras.layers.BatchNormalization(momentum = 0.9, epsilon = 1e-5, name = \"{0}stage{1}_norm{2}\".format(name, i, j + 1))(out)\n",
        "                out = tf.keras.layers.Activation(activation, name = \"{0}stage{1}_act{2}\".format(name, i, j + 1))(out)\n",
        "            elif _block.upper() == \"M\":\n",
        "                out = tf.keras.layers.BatchNormalization(momentum = 0.9, epsilon = 1e-5, name = \"{0}stage{1}_pre_norm{2}\".format(name, i, j + 1))(out)\n",
        "                out = MBConv(_n_feature, 3, strides = stride_size, expand_ratio = expand_ratio, se_ratio = se_ratio, residual = True, momentum = 0.9, epsilon = 1e-5, activation = activation, name = \"{0}stage{1}_mbconv{2}\".format(name, i, j + 1))(out)\n",
        "            elif _block.upper() == \"T\":\n",
        "                out = tf.keras.layers.LayerNormalization(epsilon = 1e-5, name = \"{0}stage{1}_pre_norm{2}\".format(name, i, j + 1))(out)\n",
        "                out = ConvTransformer(32 * 8, 8, strides = stride_size, out_dim = _n_feature, epsilon = 1e-5, activation = activation, name = \"{0}stage{1}_transformer{2}\".format(name, i, j + 1))(out)\n",
        "\n",
        "    if include_top:\n",
        "        out = tf.keras.layers.GlobalAveragePooling2D(name = \"{0}gap\".format(name))(out)\n",
        "        if 0 < dropout_rate:\n",
        "            out = tf.keras.layers.Dropout(dropout_rate, name = \"{0}dropout\".format(name))(out)\n",
        "        out = tf.keras.layers.Dense(n_class, kernel_initializer = tf.keras.initializers.RandomNormal(mean = 0, stddev = 0.01), name = \"{0}logits\".format(name))(out)\n",
        "    return out\n",
        "\n",
        "def coatnet0(input_tensor = None, input_shape = None, classes = 1000, include_top = True, weights = None):\n",
        "    if input_tensor is None:\n",
        "        img_input = tf.keras.layers.Input(shape = input_shape)\n",
        "    else:\n",
        "        if not tf.keras.backend.is_keras_tensor(input_tensor):\n",
        "            img_input = tf.keras.layers.Input(tensor = input_tensor, shape = input_shape)\n",
        "        else:\n",
        "            img_input = input_tensor\n",
        "\n",
        "    out = coatnet(img_input, classes, include_top, n_depth = [2, 2, 3, 5, 2], n_feature = [64, 96, 192, 384, 768], block = [\"C\", \"M\", \"M\", \"T\", \"T\"], stage_stride_size = 2, expand_ratio = 4, se_ratio = 4, dropout_rate = 0., activation = tf.keras.activations.gelu)\n",
        "    model = tf.keras.Model(img_input, out)\n",
        "    \n",
        "    if weights is not None:\n",
        "        model.load_weights(weights)\n",
        "    return model"
      ],
      "metadata": {
        "id": "vi2oS_eS9Cqz"
      },
      "execution_count": null,
      "outputs": []
    },
    {
      "cell_type": "code",
      "source": [
        "from google.colab import drive\n",
        "drive.mount('/content/drive')"
      ],
      "metadata": {
        "colab": {
          "base_uri": "https://localhost:8080/"
        },
        "id": "UFNLhaNHBHTw",
        "outputId": "bcc126b6-1f8b-4684-bdb7-59591ac7a61a"
      },
      "execution_count": null,
      "outputs": [
        {
          "output_type": "stream",
          "name": "stdout",
          "text": [
            "Mounted at /content/drive\n"
          ]
        }
      ]
    },
    {
      "cell_type": "code",
      "source": [
        "train_df = pd.read_csv('/content/drive/Shareddrives/519 project/train_COVIDx9A.txt', sep=\" \", header=None)\n",
        "\n",
        "#Columns are added because it was seen that column names were 0,1,2,3, so new column names are added\n",
        "#which are given in descriptions\n",
        "train_df.columns=['patient id', 'filename', 'class', 'data source']\n",
        "\n",
        "# Since we are doing image classification, patient id and data source is of no importance to us, so\n",
        "#we cn drop them\n",
        "train_df=train_df.drop(['patient id', 'data source'], axis=1)\n",
        "train_df = train_df[train_df['class'] != 'COVID-19']"
      ],
      "metadata": {
        "id": "zdjMadGd9Ql2"
      },
      "execution_count": null,
      "outputs": []
    },
    {
      "cell_type": "code",
      "source": [
        "test_df = pd.read_csv('/content/drive/Shareddrives/519 project/test_COVIDx9A.txt', sep=\" \", header=None)\n",
        "test_df.columns=['id', 'filename', 'class', 'data source' ]\n",
        "test_df=test_df.drop(['id', 'data source'], axis=1 )\n",
        "test_df = test_df[test_df['class'] != 'COVID-19']"
      ],
      "metadata": {
        "id": "TQJz9DvUBZ4W"
      },
      "execution_count": null,
      "outputs": []
    },
    {
      "cell_type": "code",
      "source": [
        "train_df['class'].value_counts()"
      ],
      "metadata": {
        "colab": {
          "base_uri": "https://localhost:8080/"
        },
        "id": "A26CXFzlBhHi",
        "outputId": "ace7cdea-d9c7-4f96-973c-37ed718b5b49"
      },
      "execution_count": null,
      "outputs": [
        {
          "output_type": "execute_result",
          "data": {
            "text/plain": [
              "normal       8085\n",
              "pneumonia    5555\n",
              "Name: class, dtype: int64"
            ]
          },
          "metadata": {},
          "execution_count": 16
        }
      ]
    },
    {
      "cell_type": "code",
      "source": [
        "normal = train_df[train_df['class']=='normal']  #positive values in class column\n",
        "pneumonia = train_df[train_df['class']=='pneumonia']\n",
        "from sklearn.utils import resample                                                     \n",
        "df_normal_downsampled = resample(normal, replace = True, n_samples = 5555)\n",
        "#concatenate\n",
        "train_df = pd.concat([pneumonia,df_normal_downsampled])\n",
        "\n",
        "from sklearn.utils import shuffle\n",
        "train_df = shuffle(train_df) # shuffling so that there is particular sequence"
      ],
      "metadata": {
        "id": "JVfO7kZjBivO"
      },
      "execution_count": null,
      "outputs": []
    },
    {
      "cell_type": "code",
      "source": [
        "train_data, valid_data = train_test_split(train_df, train_size=0.8, random_state=0)"
      ],
      "metadata": {
        "id": "oHm916DUBlWG"
      },
      "execution_count": null,
      "outputs": []
    },
    {
      "cell_type": "code",
      "source": [
        "train_path = '/content/drive/Shareddrives/519 project/train_30000/'  #directory path\n",
        "test_path = '/content/drive/Shareddrives/519 project/test.zip (Unzipped Files)'"
      ],
      "metadata": {
        "id": "z4Ry5eP5BsxE"
      },
      "execution_count": null,
      "outputs": []
    },
    {
      "cell_type": "markdown",
      "source": [
        "# Data augmentation"
      ],
      "metadata": {
        "id": "gFvWK8trmqCX"
      }
    },
    {
      "cell_type": "code",
      "source": [
        "#train_datagen = ImageDataGenerator(rescale = 1./255.,rotation_range = 40, width_shift_range = 0.2, height_shift_range = 0.2, \n",
        "                                   #shear_range = 0.2, zoom_range = 0.2, horizontal_flip = True, vertical_flip =True)\n",
        "train_datagen = ImageDataGenerator(rescale = 1./255., shear_range = 0.2)\n",
        "test_datagen = ImageDataGenerator(rescale = 1.0/255.)\n",
        "\n",
        "#Now fit the them to get the images from directory (name of the images are given in dataframe) with augmentation\n",
        "\n",
        "\n",
        "train_gen = train_datagen.flow_from_dataframe(dataframe = train_data, directory=train_path, x_col='filename', \n",
        "                                              y_col='class', target_size=(224,224), batch_size=16, \n",
        "                                               classes=['COVID-19','normal'],class_mode='sparse')\n",
        "valid_gen = test_datagen.flow_from_dataframe(dataframe = valid_data, directory=train_path, x_col='filename',\n",
        "                                             y_col='class', target_size=(224,224), batch_size=16, \n",
        "                                            classes=['COVID-19','normal'],class_mode='sparse')\n",
        "test_gen = test_datagen.flow_from_dataframe(dataframe = test_df, directory=test_path, x_col='filename', \n",
        "                                            y_col='class', target_size=(224,224), batch_size=1,\n",
        "                                             classes=['COVID-19','normal'],class_mode='sparse')"
      ],
      "metadata": {
        "id": "l5qGWTmiBwQZ"
      },
      "execution_count": null,
      "outputs": []
    },
    {
      "cell_type": "markdown",
      "source": [
        "# Build the CoAtNet0 model"
      ],
      "metadata": {
        "id": "zwTlh-LhqY83"
      }
    },
    {
      "cell_type": "code",
      "source": [
        "model = coatnet0(input_shape = (224, 224, 3), include_top = False)\n",
        "flatten = tf.keras.layers.GlobalAveragePooling2D()(model.output)\n",
        "dense = tf.keras.layers.Dense(128, activation = \"relu\")(flatten)\n",
        "drop_out = tf.keras.layers.Dropout(0.2)(dense)\n",
        "prediction = tf.keras.layers.Dense(3, activation = \"softmax\", name = \"prediction\")(drop_out)\n",
        "model = tf.keras.Model(model.input, prediction)"
      ],
      "metadata": {
        "id": "63et1kdPBzry"
      },
      "execution_count": null,
      "outputs": []
    },
    {
      "cell_type": "code",
      "source": [
        "loss = tf.keras.losses.sparse_categorical_crossentropy\n",
        "opt = tf.keras.optimizers.Adam(5e-6)\n",
        "metric = [tf.keras.metrics.sparse_categorical_accuracy]\n",
        "weights = compute_class_weight(class_weight = \"balanced\", classes = np.unique(train_gen.classes), y = train_gen.classes)\n",
        "cw = dict(zip(np.unique(train_gen.classes), weights))\n",
        "callbacks = [\n",
        "    #tf.keras.callbacks.ModelCheckpoint(\"covid_classifier_model.h1\", save_best_only=True, verbose = 0),\n",
        "    tf.keras.callbacks.EarlyStopping(patience=3, monitor='val_loss', mode = \"min\", verbose=1),\n",
        "    tf.keras.callbacks.ReduceLROnPlateau(monitor='val_loss', factor=0.5, patience=2, verbose=1)\n",
        "]\n",
        "\n",
        "model.compile(optimizer = opt, loss = loss,\n",
        "              metrics=['accuracy'])"
      ],
      "metadata": {
        "id": "qc2geV0MCyqA"
      },
      "execution_count": null,
      "outputs": []
    },
    {
      "cell_type": "markdown",
      "source": [
        "# Model training using Tensorflow"
      ],
      "metadata": {
        "id": "j7UaFm-Eqexy"
      }
    },
    {
      "cell_type": "code",
      "source": [
        "history = model.fit(train_gen, validation_data = valid_gen, epochs = 15, class_weight=cw, callbacks=callbacks)"
      ],
      "metadata": {
        "id": "p26THSNoDFQi",
        "colab": {
          "base_uri": "https://localhost:8080/"
        },
        "outputId": "fbbbe77e-bea2-4b8b-c8a3-1dd9ca6e7719"
      },
      "execution_count": null,
      "outputs": [
        {
          "output_type": "stream",
          "name": "stdout",
          "text": [
            "Epoch 1/15\n",
            "147/147 [==============================] - 82s 475ms/step - loss: 0.9380 - accuracy: 0.5723 - val_loss: 0.8317 - val_accuracy: 0.6090 - lr: 5.0000e-06\n",
            "Epoch 2/15\n",
            "147/147 [==============================] - 68s 461ms/step - loss: 0.7623 - accuracy: 0.6815 - val_loss: 0.6688 - val_accuracy: 0.7093 - lr: 5.0000e-06\n",
            "Epoch 3/15\n",
            "147/147 [==============================] - 68s 461ms/step - loss: 0.6340 - accuracy: 0.7372 - val_loss: 0.5918 - val_accuracy: 0.7699 - lr: 5.0000e-06\n",
            "Epoch 4/15\n",
            "147/147 [==============================] - 68s 462ms/step - loss: 0.5697 - accuracy: 0.7577 - val_loss: 0.4845 - val_accuracy: 0.7924 - lr: 5.0000e-06\n",
            "Epoch 5/15\n",
            "147/147 [==============================] - 68s 463ms/step - loss: 0.5314 - accuracy: 0.7776 - val_loss: 0.4466 - val_accuracy: 0.8114 - lr: 5.0000e-06\n",
            "Epoch 6/15\n",
            "147/147 [==============================] - 68s 463ms/step - loss: 0.4861 - accuracy: 0.8044 - val_loss: 0.4469 - val_accuracy: 0.7993 - lr: 5.0000e-06\n",
            "Epoch 7/15\n",
            "147/147 [==============================] - 68s 463ms/step - loss: 0.4690 - accuracy: 0.8065 - val_loss: 0.4336 - val_accuracy: 0.8270 - lr: 5.0000e-06\n",
            "Epoch 8/15\n",
            "147/147 [==============================] - 68s 461ms/step - loss: 0.4567 - accuracy: 0.8138 - val_loss: 0.3923 - val_accuracy: 0.8287 - lr: 5.0000e-06\n",
            "Epoch 9/15\n",
            "147/147 [==============================] - 68s 461ms/step - loss: 0.4160 - accuracy: 0.8287 - val_loss: 0.3883 - val_accuracy: 0.8270 - lr: 5.0000e-06\n",
            "Epoch 10/15\n",
            "147/147 [==============================] - 68s 462ms/step - loss: 0.4063 - accuracy: 0.8321 - val_loss: 0.3980 - val_accuracy: 0.8322 - lr: 5.0000e-06\n",
            "Epoch 11/15\n",
            "147/147 [==============================] - 68s 462ms/step - loss: 0.3978 - accuracy: 0.8274 - val_loss: 0.3837 - val_accuracy: 0.8356 - lr: 5.0000e-06\n",
            "Epoch 12/15\n",
            "147/147 [==============================] - 68s 463ms/step - loss: 0.4010 - accuracy: 0.8367 - val_loss: 0.3982 - val_accuracy: 0.8166 - lr: 5.0000e-06\n",
            "Epoch 13/15\n",
            "147/147 [==============================] - 68s 462ms/step - loss: 0.3659 - accuracy: 0.8508 - val_loss: 0.3723 - val_accuracy: 0.8391 - lr: 5.0000e-06\n",
            "Epoch 14/15\n",
            "147/147 [==============================] - 68s 461ms/step - loss: 0.3853 - accuracy: 0.8431 - val_loss: 0.3503 - val_accuracy: 0.8581 - lr: 5.0000e-06\n",
            "Epoch 15/15\n",
            "147/147 [==============================] - 68s 459ms/step - loss: 0.3415 - accuracy: 0.8665 - val_loss: 0.3536 - val_accuracy: 0.8547 - lr: 5.0000e-06\n"
          ]
        },
        {
          "output_type": "execute_result",
          "data": {
            "text/plain": [
              "<keras.callbacks.History at 0x7f8ba88e84d0>"
            ]
          },
          "metadata": {},
          "execution_count": 19
        }
      ]
    },
    {
      "cell_type": "code",
      "source": [
        "# ResNet: 12 Epochs; Train_acc: 0.9674; Val_acc:0.9215; Test_acc:0.8550\n",
        "model.evaluate(test_gen)"
      ],
      "metadata": {
        "id": "yPFwRPsDHOU1",
        "colab": {
          "base_uri": "https://localhost:8080/"
        },
        "outputId": "f98b622d-2f83-427a-8a0d-f0a847dbe663"
      },
      "execution_count": null,
      "outputs": [
        {
          "output_type": "stream",
          "name": "stdout",
          "text": [
            "400/400 [==============================] - 27s 66ms/step - loss: 0.3164 - accuracy: 0.8875\n"
          ]
        },
        {
          "output_type": "execute_result",
          "data": {
            "text/plain": [
              "[0.3164059519767761, 0.887499988079071]"
            ]
          },
          "metadata": {},
          "execution_count": 20
        }
      ]
    },
    {
      "cell_type": "code",
      "source": [
        "model.save_weights(\"covid_classifier_model.h6\")"
      ],
      "metadata": {
        "id": "iriWhRe10kGP"
      },
      "execution_count": null,
      "outputs": []
    },
    {
      "cell_type": "code",
      "source": [
        "model.load_weights(\"covid_classifier_model.h6\")"
      ],
      "metadata": {
        "colab": {
          "base_uri": "https://localhost:8080/"
        },
        "id": "_hPzIk1ZUxkU",
        "outputId": "cce8155e-43e0-4960-f2b9-1a3c73d108db"
      },
      "execution_count": null,
      "outputs": [
        {
          "output_type": "execute_result",
          "data": {
            "text/plain": [
              "<tensorflow.python.training.tracking.util.CheckpointLoadStatus at 0x7f91463e8710>"
            ]
          },
          "metadata": {},
          "execution_count": 27
        }
      ]
    },
    {
      "cell_type": "markdown",
      "source": [
        "***This step uses the evaluate function to show the testing accuracy, which is 88%.***"
      ],
      "metadata": {
        "id": "s_p0fBnxpxfs"
      }
    },
    {
      "cell_type": "code",
      "source": [
        "model.evaluate(test_gen)"
      ],
      "metadata": {
        "colab": {
          "base_uri": "https://localhost:8080/"
        },
        "id": "7wd5M8B-U4B4",
        "outputId": "bb4996a3-c2ff-45fa-ba1e-2e849d4ab06c"
      },
      "execution_count": null,
      "outputs": [
        {
          "output_type": "stream",
          "name": "stdout",
          "text": [
            "400/400 [==============================] - 198s 460ms/step - loss: 0.3794 - accuracy: 0.8775\n"
          ]
        },
        {
          "output_type": "execute_result",
          "data": {
            "text/plain": [
              "[0.37944403290748596, 0.8774999976158142]"
            ]
          },
          "metadata": {},
          "execution_count": 28
        }
      ]
    },
    {
      "cell_type": "code",
      "source": [
        "predictions = model.predict(test_gen)"
      ],
      "metadata": {
        "id": "TJUitTgpiLTv"
      },
      "execution_count": null,
      "outputs": []
    },
    {
      "cell_type": "code",
      "source": [
        "test_class=np.array([])\n",
        "prediction_class = np.array([])\n",
        "for i in range(400):\n",
        "   i, l = test_gen[i]\n",
        "   test_class = np.concatenate((test_class, l))\n",
        "   prediction_class = np.concatenate((prediction_class, np.argmax(model.predict(i),axis=1)))"
      ],
      "metadata": {
        "id": "mghiEdkCiTI9"
      },
      "execution_count": null,
      "outputs": []
    },
    {
      "cell_type": "code",
      "source": [
        "cm = confusion_matrix(test_class,prediction_class)"
      ],
      "metadata": {
        "id": "9rJfYEdhiVLN"
      },
      "execution_count": null,
      "outputs": []
    },
    {
      "cell_type": "code",
      "source": [
        "import seaborn as sns\n",
        "cm = pd.DataFrame(cm , index = ['0','1'] , columns = ['0','1'])\n",
        "labels = ['normal','pneumonia']\n",
        "plt.figure(figsize = (10,10))\n",
        "sns.heatmap(cm,cmap= \"Blues\", linecolor = 'black' , linewidth = 1 , annot = True, fmt='',xticklabels = labels,yticklabels = labels)\n",
        "plt.title('Confusion Matrix of the CoAtNet Classification')\n",
        "plt.show()"
      ],
      "metadata": {
        "id": "GS4RpYc1neO0",
        "outputId": "1ec37177-8da7-43bd-c0fa-59161798a4b2",
        "colab": {
          "base_uri": "https://localhost:8080/",
          "height": 627
        }
      },
      "execution_count": null,
      "outputs": [
        {
          "output_type": "display_data",
          "data": {
            "text/plain": [
              "<Figure size 720x720 with 2 Axes>"
            ],
            "image/png": "[encoded data removed]"
          },
          "metadata": {
            "needs_background": "light"
          }
        }
      ]
    },
    {
      "cell_type": "code",
      "source": [
        "def plotLearningCurve(history,epochs):\n",
        "  epochRange = range(1,epochs+1)\n",
        "  fig, ax = plt.subplots(1,2,figsize=(20,10))\n",
        "  ax[0].plot(epochRange,history.history['accuracy'],'b',label = 'Training Accuracy')\n",
        "  ax[0].plot(epochRange,history.history['val_accuracy'],'r',label = 'Validation Accuracy')\n",
        "  ax[0].set_title('Training and Validation accuracy')\n",
        "  ax[0].set_xlabel('Epoch', fontsize = 20)\n",
        "  ax[0].set_ylabel('Accuracy', fontsize = 20)\n",
        "  ax[0].legend()\n",
        "  ax[0].grid(color='gray', linestyle='--')\n",
        "  ax[1].plot(epochRange,history.history['loss'],'b',label = 'Training Loss')\n",
        "  ax[1].plot(epochRange,history.history['val_loss'],'r',label = 'Validation Loss')\n",
        "  ax[1].set_title('Training and Validation loss')\n",
        "  ax[1].set_xlabel('Epoch', fontsize = 20)\n",
        "  ax[1].set_ylabel('Loss', fontsize = 20)\n",
        "  ax[1].legend()\n",
        "  ax[1].grid(color='gray', linestyle='--')\n",
        "  plt.show()"
      ],
      "metadata": {
        "id": "5iFpUoA3iVrO"
      },
      "execution_count": null,
      "outputs": []
    },
    {
      "cell_type": "code",
      "source": [
        "plotLearningCurve(history, 15)"
      ],
      "metadata": {
        "colab": {
          "base_uri": "https://localhost:8080/",
          "height": 630
        },
        "id": "hXSzNTk0iVma",
        "outputId": "14add957-0914-4754-8cb3-698a7ae68554"
      },
      "execution_count": null,
      "outputs": [
        {
          "output_type": "display_data",
          "data": {
            "text/plain": [
              "<Figure size 1440x720 with 2 Axes>"
            ],
            "image/png": "[encoded data removed]"
          },
          "metadata": {
            "needs_background": "light"
          }
        }
      ]
    }
  ]
}